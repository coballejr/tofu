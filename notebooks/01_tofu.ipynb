{
 "cells": [
  {
   "cell_type": "code",
   "execution_count": 85,
   "id": "ba6acf89-ed78-477b-8ea2-0d2e99b6d2d4",
   "metadata": {},
   "outputs": [],
   "source": [
    "import numpy as np\n",
    "import torch\n",
    "from scipy.optimize import linear_sum_assignment\n",
    "from scipy.spatial.distance import cdist\n",
    "import matplotlib.pyplot as plt"
   ]
  },
  {
   "cell_type": "code",
   "execution_count": 86,
   "id": "f23837d4-fdc4-42dd-a428-a04bbc6ebdbc",
   "metadata": {},
   "outputs": [],
   "source": [
    "class ToFU(torch.nn.Module):\n",
    "    \n",
    "    def __init__(self,n_features,birth_lims = [0,1]):\n",
    "        super(ToFU,self).__init__()\n",
    "        \n",
    "        # initialize learnable diagram\n",
    "        lwr_lim,upper_lim = birth_lims\n",
    "        rng = upper_lim - lwr_lim\n",
    "        b = torch.maximum(rng*torch.rand(n_features)+lwr_lim,torch.tensor(lwr_lim))\n",
    "        d = b+(rng*torch.rand(n_features)+lwr_lim)\n",
    "        dgm = torch.hstack((b.view(n_features,1),d.view(n_features,1)))\n",
    "        \n",
    "        self.dgm = torch.nn.Parameter(dgm)\n",
    "        self.dgm_np = dgm.detach().cpu().numpy()\n",
    "        \n",
    "    def forward(self,dgm_x):\n",
    "             \n",
    "        # compute minimal cost matchings\n",
    "        dgm_x_np = dgm_x.detach().cpu().numpy()\n",
    "        cost = cdist(self.dgm_np, dgm_x_np)\n",
    "        tofu_idx, target_idx = linear_sum_assignment(cost)\n",
    "        \n",
    "        # compute forward pass\n",
    "        dgm_target = self.dgm.clone().detach()\n",
    "        dgm_target[tofu_idx,:] = dgm_x[target_idx,:]\n",
    "        \n",
    "        return 0.5*((self.dgm-dgm_target)**2).sum()\n",
    "        "
   ]
  },
  {
   "cell_type": "code",
   "execution_count": 87,
   "id": "deb7e16b-f7dd-4af6-babd-476e992cd199",
   "metadata": {},
   "outputs": [
    {
     "name": "stdout",
     "output_type": "stream",
     "text": [
      "Initial ToFU Diagram is:\n",
      "Parameter containing:\n",
      "tensor([[ 5.3137, 10.3380],\n",
      "        [ 7.0814, 12.8323],\n",
      "        [ 6.1760, 13.4293],\n",
      "        [ 7.3788, 15.8875],\n",
      "        [ 4.2791, 10.8904]], device='cuda:0', requires_grad=True)\n",
      "The initial NumPy version of the ToFU Diagram is:\n",
      "[[ 5.313664  10.338018 ]\n",
      " [ 7.081412  12.8323   ]\n",
      " [ 6.1760235 13.429251 ]\n",
      " [ 7.378812  15.887507 ]\n",
      " [ 4.2791376 10.890403 ]]\n"
     ]
    }
   ],
   "source": [
    "# test initialization\n",
    "device = torch.device(\"cuda\" if torch.cuda.is_available() else \"cpu\")\n",
    "n_features = 5\n",
    "birth_lims = [4,10]\n",
    "\n",
    "tofu = ToFU(n_features,birth_lims).to(device)\n",
    "\n",
    "print('Initial ToFU Diagram is:')\n",
    "print(tofu.dgm)\n",
    "\n",
    "print('The initial NumPy version of the ToFU Diagram is:')\n",
    "print(tofu.dgm_np)"
   ]
  },
  {
   "cell_type": "code",
   "execution_count": 88,
   "id": "d5a5dbff-77d8-4427-bfc3-b1c0a5811a4c",
   "metadata": {},
   "outputs": [
    {
     "data": {
      "image/png": "[encoded data removed]",
      "text/plain": [
       "<Figure size 432x288 with 1 Axes>"
      ]
     },
     "metadata": {
      "needs_background": "light"
     },
     "output_type": "display_data"
    }
   ],
   "source": [
    "# test gradient computation\n",
    "steps = 500\n",
    "grad_steps = np.zeros((steps,n_features,2))\n",
    "\n",
    "dgm_x = torch.tensor([[4.,5.],[6.,8.],[7.,9.]]).to(device)\n",
    "dgm_x_np = dgm_x.detach().cpu().numpy()\n",
    "\n",
    "opt = torch.optim.SGD(tofu.parameters(),lr = 1e-2)\n",
    "\n",
    "for i in range(steps):\n",
    "    L = tofu(dgm_x)\n",
    "    L.backward()\n",
    "    opt.step()\n",
    "    opt.zero_grad()\n",
    "    grad_steps[i,:,:] = tofu.dgm.detach().cpu().numpy() \n",
    "\n",
    "grad_steps = np.vstack(grad_steps)\n",
    "plt.scatter(dgm_x_np[:,0],dgm_x_np[:,1],c = 'black',s = 10)\n",
    "plt.scatter(grad_steps[:,0],grad_steps[:,1],c = 'red', s = 1)\n",
    "plt.show()\n",
    "plt.close()"
   ]
  },
  {
   "cell_type": "code",
   "execution_count": 123,
   "id": "1bc9d6c8-b8d7-478c-87bd-333e77cf06a6",
   "metadata": {},
   "outputs": [],
   "source": [
    "class BatchToFU(torch.nn.Module):\n",
    "    \n",
    "    def __init__(self,n_features,device,birth_lims = [0,1]):\n",
    "        super(BatchToFU,self).__init__()\n",
    "        self.tofu = ToFU(n_features,birth_lims)\n",
    "        self.device = device\n",
    "        \n",
    "    def forward(self,dgm_batch):\n",
    "        h_batch = torch.zeros((dgm_batch.shape[0],1),requires_grad = True).to(self.device)\n",
    "        \n",
    "        for b_idx,dgm_x in enumerate(dgm_batch):\n",
    "            h = self.tofu(dgm_x)\n",
    "            h_batch[b_idx,:] = h\n",
    "            \n",
    "        return h_batch"
   ]
  },
  {
   "cell_type": "code",
   "execution_count": 124,
   "id": "a0b03e71-bc03-41b0-b826-418484543a45",
   "metadata": {},
   "outputs": [
    {
     "name": "stdout",
     "output_type": "stream",
     "text": [
      "Hidden representations of batch elements are:\n",
      "tensor([[38.2143],\n",
      "        [78.5218]], device='cuda:0', grad_fn=<CopySlices>)\n"
     ]
    }
   ],
   "source": [
    "# batch tofu forward pass\n",
    "device = torch.device(\"cuda\" if torch.cuda.is_available() else \"cpu\")\n",
    "n_features = 3\n",
    "birth_lims = [2,15]\n",
    "dgm_batch = torch.tensor([[[4.,15.],[6.,18.],[7.,19.]],[[4.,5.],[6.,8.],[7.,9.]]]).to(device)\n",
    "\n",
    "batch_tofu =  BatchToFU(n_features,device,birth_lims).to(device)\n",
    "h_batch = batch_tofu(dgm_batch)\n",
    "\n",
    "print('Hidden representations of batch elements are:')\n",
    "print(h_batch)"
   ]
  },
  {
   "cell_type": "code",
   "execution_count": 125,
   "id": "94f76457-a8ea-4e12-81e6-bcc25cf8ed5b",
   "metadata": {},
   "outputs": [
    {
     "data": {
      "image/png": "[encoded data removed]",
      "text/plain": [
       "<Figure size 432x288 with 1 Axes>"
      ]
     },
     "metadata": {
      "needs_background": "light"
     },
     "output_type": "display_data"
    }
   ],
   "source": [
    "# test gradient computation over batches\n",
    "steps = 1000\n",
    "grad_steps = np.zeros((steps,n_features,2))\n",
    "\n",
    "dgm_batch_np = dgm_batch.detach().cpu().numpy()\n",
    "dgm_batch_np = np.vstack(dgm_batch_np)\n",
    "\n",
    "\n",
    "opt = torch.optim.SGD(batch_tofu.parameters(),lr = 1e-1)\n",
    "\n",
    "for i in range(steps):\n",
    "    L = batch_tofu(dgm_batch)\n",
    "    L.sum().backward()\n",
    "    opt.step()\n",
    "    opt.zero_grad()\n",
    "    grad_steps[i,:,:] = batch_tofu.tofu.dgm.detach().cpu().numpy() \n",
    "\n",
    "grad_steps = np.vstack(grad_steps)\n",
    "plt.scatter(dgm_batch_np[:,0],dgm_batch_np[:,1],c = 'black',s = 10)\n",
    "plt.scatter(grad_steps[:,0],grad_steps[:,1],c = 'red', s = 1)\n",
    "plt.show()\n",
    "plt.close()"
   ]
  },
  {
   "cell_type": "code",
   "execution_count": 143,
   "id": "012145bf-c497-4918-87fa-3207d81ac0aa",
   "metadata": {},
   "outputs": [],
   "source": [
    "class ToFULayer(torch.nn.Module):\n",
    "    \n",
    "    def __init__(self,n_dgms,n_features,device,birth_lims = [0,1]):\n",
    "        super(ToFULayer,self).__init__()\n",
    "        self.n_dgms = n_dgms\n",
    "        self.units = torch.nn.ModuleList([BatchToFU(n_features,device,birth_lims) for i in range(n_dgms)]) # (n_dgms,batch_size,1)\n",
    "        \n",
    "    def forward(self,dgm_batch):\n",
    "        h = torch.zeros((self.n_dgms,dgm_batch.shape[0],1),requires_grad = True).to(device)\n",
    "        \n",
    "        for i,unit in enumerate(self.units):\n",
    "            h[i,:,:] = unit(dgm_batch)\n",
    "        \n",
    "        h = torch.einsum('cbf -> bcf',h)\n",
    "        return h.view(dgm_batch.shape[0],self.n_dgms)"
   ]
  },
  {
   "cell_type": "code",
   "execution_count": 144,
   "id": "522af9cd-e3af-49a7-a0ca-a8e23912ba4d",
   "metadata": {},
   "outputs": [],
   "source": [
    "# test layer forward pass\n",
    "\n",
    "device = torch.device(\"cuda\" if torch.cuda.is_available() else \"cpu\")\n",
    "n_dgms,n_features = 5,3\n",
    "birth_lims = [2,15]\n",
    "dgm_batch = torch.tensor([[[4.,15.],[6.,18.],[7.,19.]],[[4.,5.],[6.,8.],[7.,9.]]]).to(device)\n",
    "mod = ToFULayer(n_dgms,n_features,device,birth_lims).to(device)\n",
    "\n",
    "h = mod(dgm_batch)"
   ]
  }
 ],
 "metadata": {
  "kernelspec": {
   "display_name": "Python 3",
   "language": "python",
   "name": "python3"
  },
  "language_info": {
   "codemirror_mode": {
    "name": "ipython",
    "version": 3
   },
   "file_extension": ".py",
   "mimetype": "text/x-python",
   "name": "python",
   "nbconvert_exporter": "python",
   "pygments_lexer": "ipython3",
   "version": "3.8.8"
  }
 },
 "nbformat": 4,
 "nbformat_minor": 5
}
